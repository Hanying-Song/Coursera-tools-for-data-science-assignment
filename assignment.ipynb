{
 "cells": [
  {
   "cell_type": "markdown",
   "id": "c7d4215d",
   "metadata": {},
   "source": [
    "# My Jupyter Notebook on IBM Watson Studio"
   ]
  },
  {
   "cell_type": "markdown",
   "id": "ee5e31bc",
   "metadata": {},
   "source": [
    "**Hanying Song**  \n",
    "Application Architect"
   ]
  },
  {
   "cell_type": "markdown",
   "id": "fbe7f282",
   "metadata": {},
   "source": [
    "*I'm interested in data science since it's very helpful in my daily work. I also want to learn something fashion to catch up with leading edges.*"
   ]
  },
  {
   "cell_type": "markdown",
   "id": "f8ebe20c",
   "metadata": {},
   "source": [
    "### The code in below cell is to caculate 1 plus 1"
   ]
  },
  {
   "cell_type": "code",
   "execution_count": 2,
   "id": "ba9d513e",
   "metadata": {},
   "outputs": [
    {
     "data": {
      "text/plain": [
       "2"
      ]
     },
     "execution_count": 2,
     "metadata": {},
     "output_type": "execute_result"
    }
   ],
   "source": [
    "1+1"
   ]
  },
  {
   "cell_type": "markdown",
   "id": "3d8cd7fd",
   "metadata": {},
   "source": [
    "1. Input target URL\n",
    "2. [google search](https://www.google.com)\n",
    "3. ```python\n",
    "s = \"Python syntax highlighting\"\n",
    "print s\n",
    "```"
   ]
  }
 ],
 "metadata": {
  "kernelspec": {
   "display_name": "Python 3",
   "language": "python",
   "name": "python3"
  },
  "language_info": {
   "codemirror_mode": {
    "name": "ipython",
    "version": 3
   },
   "file_extension": ".py",
   "mimetype": "text/x-python",
   "name": "python",
   "nbconvert_exporter": "python",
   "pygments_lexer": "ipython3",
   "version": "3.6.8"
  }
 },
 "nbformat": 4,
 "nbformat_minor": 5
}
